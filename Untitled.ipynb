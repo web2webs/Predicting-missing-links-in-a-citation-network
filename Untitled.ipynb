{
 "cells": [
  {
   "cell_type": "code",
   "execution_count": 133,
   "metadata": {
    "collapsed": true
   },
   "outputs": [],
   "source": [
    "import numpy as np\n",
    "import pandas as pd\n",
    "\n",
    "from gensim import utils\n",
    "from gensim.models.doc2vec import LabeledSentence\n",
    "from gensim.models import Doc2Vec, Word2Vec\n",
    "import re\n",
    "import nltk\n",
    "from nltk.corpus import stopwords"
   ]
  },
  {
   "cell_type": "code",
   "execution_count": 135,
   "metadata": {},
   "outputs": [
    {
     "name": "stdout",
     "output_type": "stream",
     "text": [
      "showing info https://raw.githubusercontent.com/nltk/nltk_data/gh-pages/index.xml\n"
     ]
    },
    {
     "ename": "UnicodeDecodeError",
     "evalue": "'utf-8' codec can't decode byte 0xff in position 0: invalid start byte",
     "output_type": "error",
     "traceback": [
      "\u001b[0;31m---------------------------------------------------------------------------\u001b[0m",
      "\u001b[0;31mUnicodeDecodeError\u001b[0m                        Traceback (most recent call last)",
      "\u001b[0;32m<ipython-input-135-a1a554e5d735>\u001b[0m in \u001b[0;36m<module>\u001b[0;34m()\u001b[0m\n\u001b[0;32m----> 1\u001b[0;31m \u001b[0mnltk\u001b[0m\u001b[0;34m.\u001b[0m\u001b[0mdownload\u001b[0m\u001b[0;34m(\u001b[0m\u001b[0;34m)\u001b[0m\u001b[0;34m\u001b[0m\u001b[0m\n\u001b[0m",
      "\u001b[0;32m/Library/Frameworks/Python.framework/Versions/3.6/lib/python3.6/site-packages/nltk/downloader.py\u001b[0m in \u001b[0;36mdownload\u001b[0;34m(self, info_or_id, download_dir, quiet, force, prefix, halt_on_error, raise_on_error)\u001b[0m\n\u001b[1;32m    659\u001b[0m             \u001b[0;31m# function should make a new copy of self to use?\u001b[0m\u001b[0;34m\u001b[0m\u001b[0;34m\u001b[0m\u001b[0m\n\u001b[1;32m    660\u001b[0m             \u001b[0;32mif\u001b[0m \u001b[0mdownload_dir\u001b[0m \u001b[0;32mis\u001b[0m \u001b[0;32mnot\u001b[0m \u001b[0;32mNone\u001b[0m\u001b[0;34m:\u001b[0m \u001b[0mself\u001b[0m\u001b[0;34m.\u001b[0m\u001b[0m_download_dir\u001b[0m \u001b[0;34m=\u001b[0m \u001b[0mdownload_dir\u001b[0m\u001b[0;34m\u001b[0m\u001b[0m\n\u001b[0;32m--> 661\u001b[0;31m             \u001b[0mself\u001b[0m\u001b[0;34m.\u001b[0m\u001b[0m_interactive_download\u001b[0m\u001b[0;34m(\u001b[0m\u001b[0;34m)\u001b[0m\u001b[0;34m\u001b[0m\u001b[0m\n\u001b[0m\u001b[1;32m    662\u001b[0m             \u001b[0;32mreturn\u001b[0m \u001b[0;32mTrue\u001b[0m\u001b[0;34m\u001b[0m\u001b[0m\n\u001b[1;32m    663\u001b[0m \u001b[0;34m\u001b[0m\u001b[0m\n",
      "\u001b[0;32m/Library/Frameworks/Python.framework/Versions/3.6/lib/python3.6/site-packages/nltk/downloader.py\u001b[0m in \u001b[0;36m_interactive_download\u001b[0;34m(self)\u001b[0m\n\u001b[1;32m    980\u001b[0m         \u001b[0;32mif\u001b[0m \u001b[0mTKINTER\u001b[0m\u001b[0;34m:\u001b[0m\u001b[0;34m\u001b[0m\u001b[0m\n\u001b[1;32m    981\u001b[0m             \u001b[0;32mtry\u001b[0m\u001b[0;34m:\u001b[0m\u001b[0;34m\u001b[0m\u001b[0m\n\u001b[0;32m--> 982\u001b[0;31m                 \u001b[0mDownloaderGUI\u001b[0m\u001b[0;34m(\u001b[0m\u001b[0mself\u001b[0m\u001b[0;34m)\u001b[0m\u001b[0;34m.\u001b[0m\u001b[0mmainloop\u001b[0m\u001b[0;34m(\u001b[0m\u001b[0;34m)\u001b[0m\u001b[0;34m\u001b[0m\u001b[0m\n\u001b[0m\u001b[1;32m    983\u001b[0m             \u001b[0;32mexcept\u001b[0m \u001b[0mTclError\u001b[0m\u001b[0;34m:\u001b[0m\u001b[0;34m\u001b[0m\u001b[0m\n\u001b[1;32m    984\u001b[0m                 \u001b[0mDownloaderShell\u001b[0m\u001b[0;34m(\u001b[0m\u001b[0mself\u001b[0m\u001b[0;34m)\u001b[0m\u001b[0;34m.\u001b[0m\u001b[0mrun\u001b[0m\u001b[0;34m(\u001b[0m\u001b[0;34m)\u001b[0m\u001b[0;34m\u001b[0m\u001b[0m\n",
      "\u001b[0;32m/Library/Frameworks/Python.framework/Versions/3.6/lib/python3.6/site-packages/nltk/downloader.py\u001b[0m in \u001b[0;36mmainloop\u001b[0;34m(self, *args, **kwargs)\u001b[0m\n\u001b[1;32m   1715\u001b[0m \u001b[0;34m\u001b[0m\u001b[0m\n\u001b[1;32m   1716\u001b[0m     \u001b[0;32mdef\u001b[0m \u001b[0mmainloop\u001b[0m\u001b[0;34m(\u001b[0m\u001b[0mself\u001b[0m\u001b[0;34m,\u001b[0m \u001b[0;34m*\u001b[0m\u001b[0margs\u001b[0m\u001b[0;34m,\u001b[0m \u001b[0;34m**\u001b[0m\u001b[0mkwargs\u001b[0m\u001b[0;34m)\u001b[0m\u001b[0;34m:\u001b[0m\u001b[0;34m\u001b[0m\u001b[0m\n\u001b[0;32m-> 1717\u001b[0;31m         \u001b[0mself\u001b[0m\u001b[0;34m.\u001b[0m\u001b[0mtop\u001b[0m\u001b[0;34m.\u001b[0m\u001b[0mmainloop\u001b[0m\u001b[0;34m(\u001b[0m\u001b[0;34m*\u001b[0m\u001b[0margs\u001b[0m\u001b[0;34m,\u001b[0m \u001b[0;34m**\u001b[0m\u001b[0mkwargs\u001b[0m\u001b[0;34m)\u001b[0m\u001b[0;34m\u001b[0m\u001b[0m\n\u001b[0m\u001b[1;32m   1718\u001b[0m \u001b[0;34m\u001b[0m\u001b[0m\n\u001b[1;32m   1719\u001b[0m     \u001b[0;31m#/////////////////////////////////////////////////////////////////\u001b[0m\u001b[0;34m\u001b[0m\u001b[0;34m\u001b[0m\u001b[0m\n",
      "\u001b[0;32m/Library/Frameworks/Python.framework/Versions/3.6/lib/python3.6/tkinter/__init__.py\u001b[0m in \u001b[0;36mmainloop\u001b[0;34m(self, n)\u001b[0m\n\u001b[1;32m   1275\u001b[0m     \u001b[0;32mdef\u001b[0m \u001b[0mmainloop\u001b[0m\u001b[0;34m(\u001b[0m\u001b[0mself\u001b[0m\u001b[0;34m,\u001b[0m \u001b[0mn\u001b[0m\u001b[0;34m=\u001b[0m\u001b[0;36m0\u001b[0m\u001b[0;34m)\u001b[0m\u001b[0;34m:\u001b[0m\u001b[0;34m\u001b[0m\u001b[0m\n\u001b[1;32m   1276\u001b[0m         \u001b[0;34m\"\"\"Call the mainloop of Tk.\"\"\"\u001b[0m\u001b[0;34m\u001b[0m\u001b[0m\n\u001b[0;32m-> 1277\u001b[0;31m         \u001b[0mself\u001b[0m\u001b[0;34m.\u001b[0m\u001b[0mtk\u001b[0m\u001b[0;34m.\u001b[0m\u001b[0mmainloop\u001b[0m\u001b[0;34m(\u001b[0m\u001b[0mn\u001b[0m\u001b[0;34m)\u001b[0m\u001b[0;34m\u001b[0m\u001b[0m\n\u001b[0m\u001b[1;32m   1278\u001b[0m     \u001b[0;32mdef\u001b[0m \u001b[0mquit\u001b[0m\u001b[0;34m(\u001b[0m\u001b[0mself\u001b[0m\u001b[0;34m)\u001b[0m\u001b[0;34m:\u001b[0m\u001b[0;34m\u001b[0m\u001b[0m\n\u001b[1;32m   1279\u001b[0m         \u001b[0;34m\"\"\"Quit the Tcl interpreter. All widgets will be destroyed.\"\"\"\u001b[0m\u001b[0;34m\u001b[0m\u001b[0m\n",
      "\u001b[0;31mUnicodeDecodeError\u001b[0m: 'utf-8' codec can't decode byte 0xff in position 0: invalid start byte"
     ]
    }
   ],
   "source": [
    "nltk.download()"
   ]
  },
  {
   "cell_type": "code",
   "execution_count": 7,
   "metadata": {},
   "outputs": [],
   "source": [
    "nodes_informations  = pd.DataFrame.from_csv('data/node_information.csv', sep=\";\")"
   ]
  },
  {
   "cell_type": "code",
   "execution_count": 11,
   "metadata": {},
   "outputs": [
    {
     "name": "stdout",
     "output_type": "stream",
     "text": [
      "         2000              compactification geometry and duality  \\\n",
      "1001                                                               \n",
      "1002     2000  domain walls and massive gauged supergravity p...   \n",
      "1003     2000     comment on metric fluctuations in brane worlds   \n",
      "1004     2000         moving mirrors and thermodynamic paradoxes   \n",
      "1005     2000  bundles of chiral blocks and boundary conditio...   \n",
      "1006     2000                       questions in quantum physics   \n",
      "1007     2000       topological defects in 3-d euclidean gravity   \n",
      "1008     2000  n 0 supersymmetry and the non-relativistic mon...   \n",
      "1009     2000  gluon pair production from space-time dependen...   \n",
      "1010     2000  instantons euclidean supersymmetry and wick ro...   \n",
      "1011     2000  noncommutativities of d-branes and theta chang...   \n",
      "1012     2000  boundary liouville field theory i boundary sta...   \n",
      "1013     2000  gravity and the newtonian limit in the randall...   \n",
      "1014     2000  gauge theories in local causal perturbation th...   \n",
      "1015     2000    canonical quantization and topological theories   \n",
      "1016     2000  a comment on the holographic renormalization g...   \n",
      "1017     2000               the interaction of two hopf solitons   \n",
      "1018     2000                        solitons in brane worlds ii   \n",
      "1019     2000  casimir energy of a dilute dielectric ball wit...   \n",
      "1020     2000  some uses of moduli spaces in particle and fie...   \n",
      "1021     2000           a two-loop test of buscher's t-duality i   \n",
      "1022     2000  supersymmetry and bogomol'nyi equations in the...   \n",
      "1023     2000  the string uncertainty relations follow from t...   \n",
      "1024     2000                bps states of d 4 n 1 supersymmetry   \n",
      "1025     2000     collapsing d-branes in calabi-yau moduli space   \n",
      "1026     2000                               poisson-sigma models   \n",
      "1027     2000     bi-local fields in noncommutative field theory   \n",
      "1028     2000  tree amplitudes and linearized susy invariants...   \n",
      "1029     2000                 type i and real algebraic geometry   \n",
      "1030     2000  a geometric discretisation scheme applied to t...   \n",
      "1031     2000  star-product and massless free field dynamics ...   \n",
      "...       ...                                                ...   \n",
      "9912264  1999    the osp 1 4 superparticle and exotic bps states   \n",
      "9912265  1999  symmetrization of berezin star product and pat...   \n",
      "9912266  1999    deformation of conifold and intersecting branes   \n",
      "9912267  1999  on the relation between euclidean and lorentzi...   \n",
      "9912268  2000  yang-mills theory in three dimensions as quant...   \n",
      "9912269  1999  quadratic effective action for qed in d 2 3 di...   \n",
      "9912270  2000  yang-lee zeros of the ising model on random gr...   \n",
      "9912271  1999  lectures on supersymmetric yang-mills theory a...   \n",
      "9912272  2000  twisted bundles on noncommutative t 4 and d-br...   \n",
      "9912273  1999  brane cube realization of three-dimensional no...   \n",
      "9912274  2000   open string field theory on noncommutative space   \n",
      "9912275  1999                       d branes in string theory ii   \n",
      "9912276  2000  four-dimensional planck scale is not universal...   \n",
      "9912277  1999  on g h geometry and its use in m-theory compac...   \n",
      "9912278  1999             semi-naive dimensional renormalization   \n",
      "9912279  1999     self-duality ramond-ramond fields and k-theory   \n",
      "9912280  2000  coordinate-free action for ads3 higher-spin-ma...   \n",
      "9912281  1999             mathematics and physics of n 2 strings   \n",
      "9912282  1999  reparametrization invariance and the schr odin...   \n",
      "9912283  2000               a heavy fermion can create a soliton   \n",
      "9912284  2000  on the gauge fixing of the k symmetry on ads a...   \n",
      "9912285  1999  dimensional reduction magnetic flux strings an...   \n",
      "9912286  2000  exact renormalized one-loop quantum correction...   \n",
      "9912287  2000  global structure of exact cosmological solutio...   \n",
      "9912288  2000  s-wave absorption of scalars by noncommutative...   \n",
      "9912289  2002          gauge fixing in the chain by chain method   \n",
      "9912290  2000                     shuffling quantum field theory   \n",
      "9912291  1999  small object limit of casimir effect and the s...   \n",
      "9912292  1999                 1 4 pbgs and superparticle actions   \n",
      "9912293  2000  corrections to the abelian born-infeld action ...   \n",
      "\n",
      "                                         Paul S. Aspinwall  \\\n",
      "1001                                                         \n",
      "1002                           M. Cvetic, H. Lu, C.N. Pope   \n",
      "1003                              Y.S. Myung, Gungwon Kang   \n",
      "1004                                        Adam D. Helfer   \n",
      "1005                               J. Fuchs, C. Schweigert   \n",
      "1006                                           Rudolf Haag   \n",
      "1007                   Sheng Li, Yong Zhang, Zhongyuan Zhu   \n",
      "1008                                        Donald Spector   \n",
      "1009                     Gouranga C. Nayak, Walter Greiner   \n",
      "1010       A.V. Belitsky, S. V, oren, P. van Nieuwenhuizen   \n",
      "1011                                      Tsunehide Kuroki   \n",
      "1012     V. Fateev (Montpellier), A. Zamolodchikov (Rut...   \n",
      "1013                           Rainer Dick, Dzo Mikulovicz   \n",
      "1014                                       Franz-Marc Boas   \n",
      "1015                                          Alice Rogers   \n",
      "1016                          Enrique Alvarez, Cesar Gomez   \n",
      "1017                                            R. S. Ward   \n",
      "1018                                                   NaN   \n",
      "1019             I. Klich, J. Feinberg, A. Mann, M. Revzen   \n",
      "1020                                      ST Tsou (Oxford)   \n",
      "1021           Zalan Horvath, Robert L. Karp, Laszlo Palla   \n",
      "1022               Bogdan Damski (Jagiellonian University)   \n",
      "1023                                                   NaN   \n",
      "1024     Jerome P. Gauntlett, Gary W. Gibbons, Christop...   \n",
      "1025                       Brian R. Greene, C. I. Lazaroiu   \n",
      "1026     Allen C. Hirshfeld (University of Dortmund), T...   \n",
      "1027         Satoshi Iso, Hikaru Kawai, Yoshihisa Kitazawa   \n",
      "1028                    Domenico Seminara (LPT-ENS, Paris)   \n",
      "1029                                 F.A. Cachazo, C. Vafa   \n",
      "1030     Samik Sen, Siddhartha Sen, James C. Sexton, Da...   \n",
      "1031     K.I.Bolotin, M.A.Vasiliev (Lebedev Physical In...   \n",
      "...                                                    ...   \n",
      "9912264        Igor B, os, Jerzy Lukierski, Dmitri Sorokin   \n",
      "9912265                   Satoru Saito, Kazunori Wakatsuki   \n",
      "9912266                     Kazutoshi Ohta, Takashi Yokono   \n",
      "9912267  J. Ambjorn, J. Correia, C. Kristjansen (NBI), ...   \n",
      "9912268                     Dmitri Diakonov, Victor Petrov   \n",
      "9912269        D. Dalmazi, A. de Souza Dutra, Marcelo Hott   \n",
      "9912270  Luiz C. de Albuquerque, Nelson A. Alves, D. Da...   \n",
      "9912271  Eric D'Hoker (UCLA), D. H. Phong (Columbia Uni...   \n",
      "9912272  Eunsang Kim, Hoil Kim, Nakwoo Kim, Bum-Hoon Le...   \n",
      "9912273                                        Tomomi Muto   \n",
      "9912274  Teruhiko Kawano, Tomohiko Takahashi (Univ. of ...   \n",
      "9912275                                                NaN   \n",
      "9912276                  Takaaki Ozeki, Noriyuki Shimoyama   \n",
      "9912277                                Leonardo Castellani   \n",
      "9912278                                         M. Pernici   \n",
      "9912279                       Gregory Moore, Edward Witten   \n",
      "9912280  Sergey Prokushkin (1), Arkady Segal (2), , Mik...   \n",
      "9912281                                   Olaf Lechtenfeld   \n",
      "9912282               V.I. Tkach, A. Pashnev, J.J. Rosales   \n",
      "9912283        E. Farhi, N. Graham, R. L. Jaffe, H. Weigel   \n",
      "9912284                                        Igor Pes, o   \n",
      "9912285            C. D. Fosco, A. Lopez, F. A. Schaposnik   \n",
      "9912286                                          N. Graham   \n",
      "9912287  Shinji Mukohyama, Tetsuya Shiromizu, Kei-ichi ...   \n",
      "9912288  Y.S. Myung, Gungwon Kang, H.W. Lee (Inje Unive...   \n",
      "9912289                                 A Shirzad, F Loran   \n",
      "9912290                                       Dirk Kreimer   \n",
      "9912291                            O. Kenneth, S. Nussinov   \n",
      "9912292                   F.Delduc, E. Ivanov, S. Krivonos   \n",
      "9912293                             L. Cornalba (I.H.E.S.)   \n",
      "\n",
      "                    Unnamed: 4  \\\n",
      "1001                             \n",
      "1002         Class.Quant.Grav.   \n",
      "1003                       NaN   \n",
      "1004                 Phys.Rev.   \n",
      "1005                       NaN   \n",
      "1006                       NaN   \n",
      "1007                       NaN   \n",
      "1008                Phys.Lett.   \n",
      "1009                       NaN   \n",
      "1010                Phys.Lett.   \n",
      "1011                Phys.Lett.   \n",
      "1012                       NaN   \n",
      "1013                Phys.Lett.   \n",
      "1014                       NaN   \n",
      "1015     Nucl.Phys.Proc.Suppl.   \n",
      "1016                Phys.Lett.   \n",
      "1017                Phys.Lett.   \n",
      "1018                Nucl.Phys.   \n",
      "1019                 Phys.Rev.   \n",
      "1020                       NaN   \n",
      "1021                 Phys.Rev.   \n",
      "1022                      Acta   \n",
      "1023               Found.Phys.   \n",
      "1024         Commun.Math.Phys.   \n",
      "1025                Nucl.Phys.   \n",
      "1026                       NaN   \n",
      "1027                Nucl.Phys.   \n",
      "1028     Nucl.Phys.Proc.Suppl.   \n",
      "1029                       NaN   \n",
      "1030                 Phys.Rev.   \n",
      "1031                Phys.Lett.   \n",
      "...                        ...   \n",
      "9912264                    NaN   \n",
      "9912265       Prog.Theor.Phys.   \n",
      "9912266                   JHEP   \n",
      "9912267             Phys.Lett.   \n",
      "9912268      J.Exp.Theor.Phys.   \n",
      "9912269              Phys.Rev.   \n",
      "9912270             Nucl.Phys.   \n",
      "9912271                    NaN   \n",
      "9912272              Phys.Rev.   \n",
      "9912273                   JHEP   \n",
      "9912274       Prog.Theor.Phys.   \n",
      "9912275                    NaN   \n",
      "9912276       Prog.Theor.Phys.   \n",
      "9912277                 Annals   \n",
      "9912278             Nucl.Phys.   \n",
      "9912279                   JHEP   \n",
      "9912280             Phys.Lett.   \n",
      "9912281                    NaN   \n",
      "9912282                    NaN   \n",
      "9912283             Phys.Lett.   \n",
      "9912284             Phys.Lett.   \n",
      "9912285             Nucl.Phys.   \n",
      "9912286                    NaN   \n",
      "9912287              Phys.Rev.   \n",
      "9912288              Phys.Rev.   \n",
      "9912289                    NaN   \n",
      "9912290        Lett.Math.Phys.   \n",
      "9912291              Phys.Rev.   \n",
      "9912292                    NaN   \n",
      "9912293                   JHEP   \n",
      "\n",
      "        these are notes based on lectures given at tasi99 we review the geometry of the moduli space of n 2 theories in four dimensions from the point of view of superstring compactification the cases of a type iia or type iib string compactified on a calabi-yau threefold and the heterotic string compactified on k3xt2 are each considered in detail we pay specific attention to the differences between n 2 theories and n 2 theories the moduli spaces of vector multiplets and the moduli spaces of hypermultiplets are reviewed in the case of hypermultiplets this review is limited by the poor state of our current understanding some peculiarities such as mixed instantons and the non-existence of a universal hypermultiplet are discussed  \n",
      "1001                                                                                                                                                                                                                                                                                                                                                                                                                                                                                                                                                                                                                                                                                                                                                              \n",
      "1002     we point out that massive gauged supergravity ...                                                                                                                                                                                                                                                                                                                                                                                                                                                                                                                                                                                                                                                                                                        \n",
      "1003     recently ivanov and volovich hep-th 9912242 cl...                                                                                                                                                                                                                                                                                                                                                                                                                                                                                                                                                                                                                                                                                                        \n",
      "1004     quantum fields responding to moving mirrors ha...                                                                                                                                                                                                                                                                                                                                                                                                                                                                                                                                                                                                                                                                                                        \n",
      "1005     proceedings of lie iii clausthal july 1999 var...                                                                                                                                                                                                                                                                                                                                                                                                                                                                                                                                                                                                                                                                                                        \n",
      "1006     an assessment of the present status of the the...                                                                                                                                                                                                                                                                                                                                                                                                                                                                                                                                                                                                                                                                                                        \n",
      "1007     by making use of the complete decomposition of...                                                                                                                                                                                                                                                                                                                                                                                                                                                                                                                                                                                                                                                                                                        \n",
      "1008     we study some of the algebraic properties of t...                                                                                                                                                                                                                                                                                                                                                                                                                                                                                                                                                                                                                                                                                                        \n",
      "1009     we compute the probabilty for the processes a ...                                                                                                                                                                                                                                                                                                                                                                                                                                                                                                                                                                                                                                                                                                        \n",
      "1010     we discuss the reality properties of the fermi...                                                                                                                                                                                                                                                                                                                                                                                                                                                                                                                                                                                                                                                                                                        \n",
      "1011     in d-brane matrix models improved it is known ...                                                                                                                                                                                                                                                                                                                                                                                                                                                                                                                                                                                                                                                                                                        \n",
      "1012     function montpellier liouville conformal field...                                                                                                                                                                                                                                                                                                                                                                                                                                                                                                                                                                                                                                                                                                        \n",
      "1013     appended a remark on the compatibility of the ...                                                                                                                                                                                                                                                                                                                                                                                                                                                                                                                                                                                                                                                                                                        \n",
      "1014     in this thesis quantum gauge theories are cons...                                                                                                                                                                                                                                                                                                                                                                                                                                                                                                                                                                                                                                                                                                        \n",
      "1015     dynamics and quantum gravity villasimius sardi...                                                                                                                                                                                                                                                                                                                                                                                                                                                                                                                                                                                                                                                                                                        \n",
      "1016     theorem the equivalence between the holographi...                                                                                                                                                                                                                                                                                                                                                                                                                                                                                                                                                                                                                                                                                                        \n",
      "1017     this letter deals with topological solitons in...                                                                                                                                                                                                                                                                                                                                                                                                                                                                                                                                                                                                                                                                                                        \n",
      "1018     added minor errors corrected we study the solu...                                                                                                                                                                                                                                                                                                                                                                                                                                                                                                                                                                                                                                                                                                        \n",
      "1019     light at finite temperature the casimir energy...                                                                                                                                                                                                                                                                                                                                                                                                                                                                                                                                                                                                                                                                                                        \n",
      "1020     women in mathematics workshop on moduli spaces...                                                                                                                                                                                                                                                                                                                                                                                                                                                                                                                                                                                                                                                                                                        \n",
      "1021     we study the two loop quantum equivalence of s...                                                                                                                                                                                                                                                                                                                                                                                                                                                                                                                                                                                                                                                                                                        \n",
      "1022     systems we take advantage of the superspace fo...                                                                                                                                                                                                                                                                                                                                                                                                                                                                                                                                                                                                                                                                                                        \n",
      "1023     principle polymomenta coordinates has been mad...                                                                                                                                                                                                                                                                                                                                                                                                                                                                                                                                                                                                                                                                                                        \n",
      "1024     townsend expanded discussion on bps states in ...                                                                                                                                                                                                                                                                                                                                                                                                                                                                                                                                                                                                                                                                                                        \n",
      "1025     we study the quantum volume of d-branes wrappe...                                                                                                                                                                                                                                                                                                                                                                                                                                                                                                                                                                                                                                                                                                        \n",
      "1026     university of dortmund physical variables in g...                                                                                                                                                                                                                                                                                                                                                                                                                                                                                                                                                                                                                                                                                                        \n",
      "1027     we propose a bi-local representation in noncom...                                                                                                                                                                                                                                                                                                                                                                                                                                                                                                                                                                                                                                                                                                        \n",
      "1028     gravity villasimius sept 13-17 1999 we exploit...                                                                                                                                                                                                                                                                                                                                                                                                                                                                                                                                                                                                                                                                                                        \n",
      "1029     we revisit the duality between type i and hete...                                                                                                                                                                                                                                                                                                                                                                                                                                                                                                                                                                                                                                                                                                        \n",
      "1030     theory we give a detailed general description ...                                                                                                                                                                                                                                                                                                                                                                                                                                                                                                                                                                                                                                                                                                        \n",
      "1031     in physics letters b generic solution of free ...                                                                                                                                                                                                                                                                                                                                                                                                                                                                                                                                                                                                                                                                                                        \n",
      "...                                                    ...                                                                                                                                                                                                                                                                                                                                                                                                                                                                                                                                                                                                                                                                                                        \n",
      "9912264  symposium karpacz poland september 21 25 1999 ...                                                                                                                                                                                                                                                                                                                                                                                                                                                                                                                                                                                                                                                                                                        \n",
      "9912265  we propose a new star pruduct which interpolat...                                                                                                                                                                                                                                                                                                                                                                                                                                                                                                                                                                                                                                                                                                        \n",
      "9912266  we study the relation between intersecting ns5...                                                                                                                                                                                                                                                                                                                                                                                                                                                                                                                                                                                                                                                                                                        \n",
      "9912267  starting from 2d euclidean quantum gravity we ...                                                                                                                                                                                                                                                                                                                                                                                                                                                                                                                                                                                                                                                                                                        \n",
      "9912268  1012-1035 we perform the dual transformation o...                                                                                                                                                                                                                                                                                                                                                                                                                                                                                                                                                                                                                                                                                                        \n",
      "9912269  we calculate the effective action for quantum ...                                                                                                                                                                                                                                                                                                                                                                                                                                                                                                                                                                                                                                                                                                        \n",
      "9912270  topology nucl phys b we obtain in a closed for...                                                                                                                                                                                                                                                                                                                                                                                                                                                                                                                                                                                                                                                                                                        \n",
      "9912271  we present a series of four self-contained lec...                                                                                                                                                                                                                                                                                                                                                                                                                                                                                                                                                                                                                                                                                                        \n",
      "9912272  hyun seok yang added we construct twisted quan...                                                                                                                                                                                                                                                                                                                                                                                                                                                                                                                                                                                                                                                                                                        \n",
      "9912273  we study d-branes on three-dimensional orbifol...                                                                                                                                                                                                                                                                                                                                                                                                                                                                                                                                                                                                                                                                                                        \n",
      "9912274  we study witten's open string field theory in ...                                                                                                                                                                                                                                                                                                                                                                                                                                                                                                                                                                                                                                                                                                        \n",
      "9912275  in these lectures we review the properties of ...                                                                                                                                                                                                                                                                                                                                                                                                                                                                                                                                                                                                                                                                                                        \n",
      "9912276  randall-sundrum scenario it has recently been ...                                                                                                                                                                                                                                                                                                                                                                                                                                                                                                                                                                                                                                                                                                        \n",
      "9912277  the riemannian geometry of coset spaces is rev...                                                                                                                                                                                                                                                                                                                                                                                                                                                                                                                                                                                                                                                                                                        \n",
      "9912278  we propose a treatment of gamma 5 in dimension...                                                                                                                                                                                                                                                                                                                                                                                                                                                                                                                                                                                                                                                                                                        \n",
      "9912279  just as d-brane charge of type iia and type ii...                                                                                                                                                                                                                                                                                                                                                                                                                                                                                                                                                                                                                                                                                                        \n",
      "9912280  stanford university 2 lebedev physics institut...                                                                                                                                                                                                                                                                                                                                                                                                                                                                                                                                                                                                                                                                                                        \n",
      "9912281  open and closed strings with two worldsheet su...                                                                                                                                                                                                                                                                                                                                                                                                                                                                                                                                                                                                                                                                                                        \n",
      "9912282  in the present work we consider a time-depende...                                                                                                                                                                                                                                                                                                                                                                                                                                                                                                                                                                                                                                                                                                        \n",
      "9912283  minor errors added reference v3 corrected refe...                                                                                                                                                                                                                                                                                                                                                                                                                                                                                                                                                                                                                                                                                                        \n",
      "9912284  lightcone action for the type iib string on ad...                                                                                                                                                                                                                                                                                                                                                                                                                                                                                                                                                                                                                                                                                                        \n",
      "9912285  we study some consequences of dimensionally re...                                                                                                                                                                                                                                                                                                                                                                                                                                                                                                                                                                                                                                                                                                        \n",
      "9912286  field configurations error in eq b 22 v3 fixed...                                                                                                                                                                                                                                                                                                                                                                                                                                                                                                                                                                                                                                                                                                        \n",
      "9912287  publication in physical review d we find the e...                                                                                                                                                                                                                                                                                                                                                                                                                                                                                                                                                                                                                                                                                                        \n",
      "9912288  on the supergravity side we study the propagat...                                                                                                                                                                                                                                                                                                                                                                                                                                                                                                                                                                                                                                                                                                        \n",
      "9912289  in a recent work we showed that for a hamilton...                                                                                                                                                                                                                                                                                                                                                                                                                                                                                                                                                                                                                                                                                                        \n",
      "9912290  we discuss shuffle identities between feynman ...                                                                                                                                                                                                                                                                                                                                                                                                                                                                                                                                                                                                                                                                                                        \n",
      "9912291  we show a simple way of deriving the casimir p...                                                                                                                                                                                                                                                                                                                                                                                                                                                                                                                                                                                                                                                                                                        \n",
      "9912292  karpacz poland september 21-25 1999 we constru...                                                                                                                                                                                                                                                                                                                                                                                                                                                                                                                                                                                                                                                                                                        \n",
      "9912293  noncommutative geometry in a recent paper seib...                                                                                                                                                                                                                                                                                                                                                                                                                                                                                                                                                                                                                                                                                                        \n",
      "\n",
      "[27767 rows x 5 columns]\n"
     ]
    }
   ],
   "source": [
    "print (nodes_informations)"
   ]
  },
  {
   "cell_type": "code",
   "execution_count": 12,
   "metadata": {
    "collapsed": true
   },
   "outputs": [],
   "source": [
    "matrix = nodes_informations.as_matrix()"
   ]
  },
  {
   "cell_type": "code",
   "execution_count": 75,
   "metadata": {},
   "outputs": [
    {
     "data": {
      "text/plain": [
       "array([2000, 'domain walls and massive gauged supergravity potentials',\n",
       "       'M. Cvetic, H. Lu, C.N. Pope', 'Class.Quant.Grav.',\n",
       "       'we point out that massive gauged supergravity potentials for example those arising due to the massive breathing mode of sphere reductions in m-theory or string theory allow for supersymmetric static domain wall solutions which are a hybrid of a randall-sundrum domain wall on one side and a dilatonic domain wall with a run-away dilaton on the other side on the anti-de sitter ads side these walls have a repulsive gravity with an asymptotic region corresponding to the cauchy horizon while on the other side the runaway dilaton approaches the weak coupling regime and a non-singular attractive gravity with the asymptotic region corresponding to the boundary of spacetime we contrast these results with the situation for gauged supergravity potentials for massless scalar modes whose supersymmetric ads extrema are generically maxima and there the asymptotic regime transverse to the wall corresponds to the boundary of the ads spacetime we also comment on the possibility that the massive breathing mode may in the case of fundamental domain-wall sources stabilize such walls via a goldberger-wise mechanism'], dtype=object)"
      ]
     },
     "execution_count": 75,
     "metadata": {},
     "output_type": "execute_result"
    }
   ],
   "source": [
    "matrix[0]\n"
   ]
  },
  {
   "cell_type": "code",
   "execution_count": 89,
   "metadata": {
    "collapsed": true
   },
   "outputs": [],
   "source": [
    "years = matrix[:, 0]\n",
    "titles = matrix[:, 1]\n",
    "authors = matrix[:, 2]\n",
    "journals = matrix[:, 3]\n",
    "abstracts = matrix[:, 4]"
   ]
  },
  {
   "cell_type": "code",
   "execution_count": 127,
   "metadata": {},
   "outputs": [],
   "source": [
    "\n",
    "def split_sentence(sentence):\n",
    "    print(sentence.split(' '))\n",
    "    return sentence.split(' ')\n",
    "x=titles.tolist()\n",
    "seperated_titles = []"
   ]
  },
  {
   "cell_type": "code",
   "execution_count": 134,
   "metadata": {},
   "outputs": [
    {
     "ename": "LookupError",
     "evalue": "\n**********************************************************************\n  Resource \u001b[93mstopwords\u001b[0m not found.\n  Please use the NLTK Downloader to obtain the resource:\n\n  \u001b[31m>>> import nltk\n  >>> nltk.download('stopwords')\n  \u001b[0m\n  Searched in:\n    - '/Users/vpro/nltk_data'\n    - '/usr/share/nltk_data'\n    - '/usr/local/share/nltk_data'\n    - '/usr/lib/nltk_data'\n    - '/usr/local/lib/nltk_data'\n    - '/Library/Frameworks/Python.framework/Versions/3.6/nltk_data'\n    - '/Library/Frameworks/Python.framework/Versions/3.6/lib/nltk_data'\n**********************************************************************\n",
     "output_type": "error",
     "traceback": [
      "\u001b[0;31m---------------------------------------------------------------------------\u001b[0m",
      "\u001b[0;31mLookupError\u001b[0m                               Traceback (most recent call last)",
      "\u001b[0;32m/Library/Frameworks/Python.framework/Versions/3.6/lib/python3.6/site-packages/nltk/corpus/util.py\u001b[0m in \u001b[0;36m__load\u001b[0;34m(self)\u001b[0m\n\u001b[1;32m     79\u001b[0m             \u001b[0;32mexcept\u001b[0m \u001b[0mLookupError\u001b[0m \u001b[0;32mas\u001b[0m \u001b[0me\u001b[0m\u001b[0;34m:\u001b[0m\u001b[0;34m\u001b[0m\u001b[0m\n\u001b[0;32m---> 80\u001b[0;31m                 \u001b[0;32mtry\u001b[0m\u001b[0;34m:\u001b[0m \u001b[0mroot\u001b[0m \u001b[0;34m=\u001b[0m \u001b[0mnltk\u001b[0m\u001b[0;34m.\u001b[0m\u001b[0mdata\u001b[0m\u001b[0;34m.\u001b[0m\u001b[0mfind\u001b[0m\u001b[0;34m(\u001b[0m\u001b[0;34m'{}/{}'\u001b[0m\u001b[0;34m.\u001b[0m\u001b[0mformat\u001b[0m\u001b[0;34m(\u001b[0m\u001b[0mself\u001b[0m\u001b[0;34m.\u001b[0m\u001b[0msubdir\u001b[0m\u001b[0;34m,\u001b[0m \u001b[0mzip_name\u001b[0m\u001b[0;34m)\u001b[0m\u001b[0;34m)\u001b[0m\u001b[0;34m\u001b[0m\u001b[0m\n\u001b[0m\u001b[1;32m     81\u001b[0m                 \u001b[0;32mexcept\u001b[0m \u001b[0mLookupError\u001b[0m\u001b[0;34m:\u001b[0m \u001b[0;32mraise\u001b[0m \u001b[0me\u001b[0m\u001b[0;34m\u001b[0m\u001b[0m\n",
      "\u001b[0;32m/Library/Frameworks/Python.framework/Versions/3.6/lib/python3.6/site-packages/nltk/data.py\u001b[0m in \u001b[0;36mfind\u001b[0;34m(resource_name, paths)\u001b[0m\n\u001b[1;32m    672\u001b[0m     \u001b[0mresource_not_found\u001b[0m \u001b[0;34m=\u001b[0m \u001b[0;34m'\\n%s\\n%s\\n%s\\n'\u001b[0m \u001b[0;34m%\u001b[0m \u001b[0;34m(\u001b[0m\u001b[0msep\u001b[0m\u001b[0;34m,\u001b[0m \u001b[0mmsg\u001b[0m\u001b[0;34m,\u001b[0m \u001b[0msep\u001b[0m\u001b[0;34m)\u001b[0m\u001b[0;34m\u001b[0m\u001b[0m\n\u001b[0;32m--> 673\u001b[0;31m     \u001b[0;32mraise\u001b[0m \u001b[0mLookupError\u001b[0m\u001b[0;34m(\u001b[0m\u001b[0mresource_not_found\u001b[0m\u001b[0;34m)\u001b[0m\u001b[0;34m\u001b[0m\u001b[0m\n\u001b[0m\u001b[1;32m    674\u001b[0m \u001b[0;34m\u001b[0m\u001b[0m\n",
      "\u001b[0;31mLookupError\u001b[0m: \n**********************************************************************\n  Resource \u001b[93mstopwords\u001b[0m not found.\n  Please use the NLTK Downloader to obtain the resource:\n\n  \u001b[31m>>> import nltk\n  >>> nltk.download('stopwords')\n  \u001b[0m\n  Searched in:\n    - '/Users/vpro/nltk_data'\n    - '/usr/share/nltk_data'\n    - '/usr/local/share/nltk_data'\n    - '/usr/lib/nltk_data'\n    - '/usr/local/lib/nltk_data'\n    - '/Library/Frameworks/Python.framework/Versions/3.6/nltk_data'\n    - '/Library/Frameworks/Python.framework/Versions/3.6/lib/nltk_data'\n**********************************************************************\n",
      "\nDuring handling of the above exception, another exception occurred:\n",
      "\u001b[0;31mLookupError\u001b[0m                               Traceback (most recent call last)",
      "\u001b[0;32m<ipython-input-134-ee89d54b9ca7>\u001b[0m in \u001b[0;36m<module>\u001b[0;34m()\u001b[0m\n\u001b[1;32m      1\u001b[0m \u001b[0;34m\u001b[0m\u001b[0m\n\u001b[0;32m----> 2\u001b[0;31m \u001b[0mstop_words\u001b[0m \u001b[0;34m=\u001b[0m \u001b[0mset\u001b[0m\u001b[0;34m(\u001b[0m\u001b[0mstopwords\u001b[0m\u001b[0;34m.\u001b[0m\u001b[0mwords\u001b[0m\u001b[0;34m(\u001b[0m\u001b[0;34m'english'\u001b[0m\u001b[0;34m)\u001b[0m\u001b[0;34m)\u001b[0m\u001b[0;34m\u001b[0m\u001b[0m\n\u001b[0m\u001b[1;32m      3\u001b[0m \u001b[0;34m\u001b[0m\u001b[0m\n\u001b[1;32m      4\u001b[0m \u001b[0mfiltered_sentence\u001b[0m \u001b[0;34m=\u001b[0m \u001b[0;34m[\u001b[0m\u001b[0mw\u001b[0m \u001b[0;32mfor\u001b[0m \u001b[0mw\u001b[0m \u001b[0;32min\u001b[0m \u001b[0mx\u001b[0m \u001b[0;32mif\u001b[0m \u001b[0;32mnot\u001b[0m \u001b[0mw\u001b[0m \u001b[0;32min\u001b[0m \u001b[0mstop_words\u001b[0m\u001b[0;34m]\u001b[0m\u001b[0;34m\u001b[0m\u001b[0m\n",
      "\u001b[0;32m/Library/Frameworks/Python.framework/Versions/3.6/lib/python3.6/site-packages/nltk/corpus/util.py\u001b[0m in \u001b[0;36m__getattr__\u001b[0;34m(self, attr)\u001b[0m\n\u001b[1;32m    114\u001b[0m             \u001b[0;32mraise\u001b[0m \u001b[0mAttributeError\u001b[0m\u001b[0;34m(\u001b[0m\u001b[0;34m\"LazyCorpusLoader object has no attribute '__bases__'\"\u001b[0m\u001b[0;34m)\u001b[0m\u001b[0;34m\u001b[0m\u001b[0m\n\u001b[1;32m    115\u001b[0m \u001b[0;34m\u001b[0m\u001b[0m\n\u001b[0;32m--> 116\u001b[0;31m         \u001b[0mself\u001b[0m\u001b[0;34m.\u001b[0m\u001b[0m__load\u001b[0m\u001b[0;34m(\u001b[0m\u001b[0;34m)\u001b[0m\u001b[0;34m\u001b[0m\u001b[0m\n\u001b[0m\u001b[1;32m    117\u001b[0m         \u001b[0;31m# This looks circular, but its not, since __load() changes our\u001b[0m\u001b[0;34m\u001b[0m\u001b[0;34m\u001b[0m\u001b[0m\n\u001b[1;32m    118\u001b[0m         \u001b[0;31m# __class__ to something new:\u001b[0m\u001b[0;34m\u001b[0m\u001b[0;34m\u001b[0m\u001b[0m\n",
      "\u001b[0;32m/Library/Frameworks/Python.framework/Versions/3.6/lib/python3.6/site-packages/nltk/corpus/util.py\u001b[0m in \u001b[0;36m__load\u001b[0;34m(self)\u001b[0m\n\u001b[1;32m     79\u001b[0m             \u001b[0;32mexcept\u001b[0m \u001b[0mLookupError\u001b[0m \u001b[0;32mas\u001b[0m \u001b[0me\u001b[0m\u001b[0;34m:\u001b[0m\u001b[0;34m\u001b[0m\u001b[0m\n\u001b[1;32m     80\u001b[0m                 \u001b[0;32mtry\u001b[0m\u001b[0;34m:\u001b[0m \u001b[0mroot\u001b[0m \u001b[0;34m=\u001b[0m \u001b[0mnltk\u001b[0m\u001b[0;34m.\u001b[0m\u001b[0mdata\u001b[0m\u001b[0;34m.\u001b[0m\u001b[0mfind\u001b[0m\u001b[0;34m(\u001b[0m\u001b[0;34m'{}/{}'\u001b[0m\u001b[0;34m.\u001b[0m\u001b[0mformat\u001b[0m\u001b[0;34m(\u001b[0m\u001b[0mself\u001b[0m\u001b[0;34m.\u001b[0m\u001b[0msubdir\u001b[0m\u001b[0;34m,\u001b[0m \u001b[0mzip_name\u001b[0m\u001b[0;34m)\u001b[0m\u001b[0;34m)\u001b[0m\u001b[0;34m\u001b[0m\u001b[0m\n\u001b[0;32m---> 81\u001b[0;31m                 \u001b[0;32mexcept\u001b[0m \u001b[0mLookupError\u001b[0m\u001b[0;34m:\u001b[0m \u001b[0;32mraise\u001b[0m \u001b[0me\u001b[0m\u001b[0;34m\u001b[0m\u001b[0m\n\u001b[0m\u001b[1;32m     82\u001b[0m \u001b[0;34m\u001b[0m\u001b[0m\n\u001b[1;32m     83\u001b[0m         \u001b[0;31m# Load the corpus.\u001b[0m\u001b[0;34m\u001b[0m\u001b[0;34m\u001b[0m\u001b[0m\n",
      "\u001b[0;32m/Library/Frameworks/Python.framework/Versions/3.6/lib/python3.6/site-packages/nltk/corpus/util.py\u001b[0m in \u001b[0;36m__load\u001b[0;34m(self)\u001b[0m\n\u001b[1;32m     76\u001b[0m         \u001b[0;32melse\u001b[0m\u001b[0;34m:\u001b[0m\u001b[0;34m\u001b[0m\u001b[0m\n\u001b[1;32m     77\u001b[0m             \u001b[0;32mtry\u001b[0m\u001b[0;34m:\u001b[0m\u001b[0;34m\u001b[0m\u001b[0m\n\u001b[0;32m---> 78\u001b[0;31m                 \u001b[0mroot\u001b[0m \u001b[0;34m=\u001b[0m \u001b[0mnltk\u001b[0m\u001b[0;34m.\u001b[0m\u001b[0mdata\u001b[0m\u001b[0;34m.\u001b[0m\u001b[0mfind\u001b[0m\u001b[0;34m(\u001b[0m\u001b[0;34m'{}/{}'\u001b[0m\u001b[0;34m.\u001b[0m\u001b[0mformat\u001b[0m\u001b[0;34m(\u001b[0m\u001b[0mself\u001b[0m\u001b[0;34m.\u001b[0m\u001b[0msubdir\u001b[0m\u001b[0;34m,\u001b[0m \u001b[0mself\u001b[0m\u001b[0;34m.\u001b[0m\u001b[0m__name\u001b[0m\u001b[0;34m)\u001b[0m\u001b[0;34m)\u001b[0m\u001b[0;34m\u001b[0m\u001b[0m\n\u001b[0m\u001b[1;32m     79\u001b[0m             \u001b[0;32mexcept\u001b[0m \u001b[0mLookupError\u001b[0m \u001b[0;32mas\u001b[0m \u001b[0me\u001b[0m\u001b[0;34m:\u001b[0m\u001b[0;34m\u001b[0m\u001b[0m\n\u001b[1;32m     80\u001b[0m                 \u001b[0;32mtry\u001b[0m\u001b[0;34m:\u001b[0m \u001b[0mroot\u001b[0m \u001b[0;34m=\u001b[0m \u001b[0mnltk\u001b[0m\u001b[0;34m.\u001b[0m\u001b[0mdata\u001b[0m\u001b[0;34m.\u001b[0m\u001b[0mfind\u001b[0m\u001b[0;34m(\u001b[0m\u001b[0;34m'{}/{}'\u001b[0m\u001b[0;34m.\u001b[0m\u001b[0mformat\u001b[0m\u001b[0;34m(\u001b[0m\u001b[0mself\u001b[0m\u001b[0;34m.\u001b[0m\u001b[0msubdir\u001b[0m\u001b[0;34m,\u001b[0m \u001b[0mzip_name\u001b[0m\u001b[0;34m)\u001b[0m\u001b[0;34m)\u001b[0m\u001b[0;34m\u001b[0m\u001b[0m\n",
      "\u001b[0;32m/Library/Frameworks/Python.framework/Versions/3.6/lib/python3.6/site-packages/nltk/data.py\u001b[0m in \u001b[0;36mfind\u001b[0;34m(resource_name, paths)\u001b[0m\n\u001b[1;32m    671\u001b[0m     \u001b[0msep\u001b[0m \u001b[0;34m=\u001b[0m \u001b[0;34m'*'\u001b[0m \u001b[0;34m*\u001b[0m \u001b[0;36m70\u001b[0m\u001b[0;34m\u001b[0m\u001b[0m\n\u001b[1;32m    672\u001b[0m     \u001b[0mresource_not_found\u001b[0m \u001b[0;34m=\u001b[0m \u001b[0;34m'\\n%s\\n%s\\n%s\\n'\u001b[0m \u001b[0;34m%\u001b[0m \u001b[0;34m(\u001b[0m\u001b[0msep\u001b[0m\u001b[0;34m,\u001b[0m \u001b[0mmsg\u001b[0m\u001b[0;34m,\u001b[0m \u001b[0msep\u001b[0m\u001b[0;34m)\u001b[0m\u001b[0;34m\u001b[0m\u001b[0m\n\u001b[0;32m--> 673\u001b[0;31m     \u001b[0;32mraise\u001b[0m \u001b[0mLookupError\u001b[0m\u001b[0;34m(\u001b[0m\u001b[0mresource_not_found\u001b[0m\u001b[0;34m)\u001b[0m\u001b[0;34m\u001b[0m\u001b[0m\n\u001b[0m\u001b[1;32m    674\u001b[0m \u001b[0;34m\u001b[0m\u001b[0m\n\u001b[1;32m    675\u001b[0m \u001b[0;34m\u001b[0m\u001b[0m\n",
      "\u001b[0;31mLookupError\u001b[0m: \n**********************************************************************\n  Resource \u001b[93mstopwords\u001b[0m not found.\n  Please use the NLTK Downloader to obtain the resource:\n\n  \u001b[31m>>> import nltk\n  >>> nltk.download('stopwords')\n  \u001b[0m\n  Searched in:\n    - '/Users/vpro/nltk_data'\n    - '/usr/share/nltk_data'\n    - '/usr/local/share/nltk_data'\n    - '/usr/lib/nltk_data'\n    - '/usr/local/lib/nltk_data'\n    - '/Library/Frameworks/Python.framework/Versions/3.6/nltk_data'\n    - '/Library/Frameworks/Python.framework/Versions/3.6/lib/nltk_data'\n**********************************************************************\n"
     ]
    }
   ],
   "source": [
    "\n",
    "stop_words = set(stopwords.words('english')) \n",
    " \n",
    "filtered_sentence = [w for w in x if not w in stop_words]"
   ]
  },
  {
   "cell_type": "code",
   "execution_count": 128,
   "metadata": {},
   "outputs": [],
   "source": [
    "for title in titles.tolist():\n",
    "    words = title.split(' ')\n",
    "    seperated_titles.append()"
   ]
  },
  {
   "cell_type": "code",
   "execution_count": 130,
   "metadata": {},
   "outputs": [],
   "source": [
    "model = Word2Vec(seperated_titles, min_count=5)"
   ]
  },
  {
   "cell_type": "code",
   "execution_count": 132,
   "metadata": {},
   "outputs": [
    {
     "data": {
      "text/plain": [
       "array([-0.1445303 ,  0.30641383, -0.07751377, -0.48107982, -0.3079091 ,\n",
       "       -0.22979248, -0.14065862, -0.29596499, -0.19303034, -0.37455317,\n",
       "        0.12497718, -0.17218977, -0.47310242,  0.47776684,  0.42193842,\n",
       "        0.13809396,  0.37608215,  0.03182192,  0.470745  , -0.13201731,\n",
       "       -0.13790706,  0.67599863, -0.08720716,  0.04924416,  0.68554604,\n",
       "       -0.18623744, -0.0515423 ,  0.1552905 ,  0.24289563,  0.31653714,\n",
       "       -0.07423755,  0.3253102 , -0.00382569, -0.19759698,  0.40366158,\n",
       "        0.44957557, -0.21833619, -0.4002403 , -0.4602865 , -0.35357726,\n",
       "        0.55109078, -0.04186421, -0.5037334 , -0.01502748, -0.0510716 ,\n",
       "        0.03425348,  0.27016905, -0.11083826, -0.07027372, -0.01473827,\n",
       "       -0.22780961,  0.74615109, -0.09999897, -0.44389921, -0.10519142,\n",
       "        0.36858571, -0.32504776,  0.50653136,  0.15882808,  0.31954294,\n",
       "        0.54698652,  0.09636049,  0.02570026,  0.19800258,  0.12879267,\n",
       "        0.48027581,  0.35870874, -0.27672529,  0.00726252,  0.09172501,\n",
       "       -0.00804492, -0.23469049, -0.01528111,  0.19883385, -0.0353715 ,\n",
       "       -0.68305731, -0.12032681, -0.22526109,  0.47587258, -0.31673378,\n",
       "        0.24373791,  0.02883083,  0.17644815,  0.11929922,  0.2218204 ,\n",
       "        0.2531819 , -0.02476803, -0.08946948,  0.13408288,  0.02251978,\n",
       "        0.45358321,  0.29551297, -0.44131768, -0.34769475, -0.42406443,\n",
       "        0.02284029, -0.47406742,  0.18146911,  0.20206858,  0.24775955], dtype=float32)"
      ]
     },
     "execution_count": 132,
     "metadata": {},
     "output_type": "execute_result"
    }
   ],
   "source": [
    "model.wv['of']"
   ]
  },
  {
   "cell_type": "code",
   "execution_count": 108,
   "metadata": {},
   "outputs": [],
   "source": [
    "B = titles.reshape((titles.shape[0],1))"
   ]
  },
  {
   "cell_type": "code",
   "execution_count": 109,
   "metadata": {},
   "outputs": [
    {
     "name": "stdout",
     "output_type": "stream",
     "text": [
      "(27767,)\n"
     ]
    },
    {
     "ename": "AttributeError",
     "evalue": "'numpy.ndarray' object has no attribute 'split'",
     "output_type": "error",
     "traceback": [
      "\u001b[0;31m---------------------------------------------------------------------------\u001b[0m",
      "\u001b[0;31mAttributeError\u001b[0m                            Traceback (most recent call last)",
      "\u001b[0;32m<ipython-input-109-316da0887e63>\u001b[0m in \u001b[0;36m<module>\u001b[0;34m()\u001b[0m\n\u001b[0;32m----> 1\u001b[0;31m \u001b[0mx\u001b[0m \u001b[0;34m=\u001b[0m\u001b[0mnp\u001b[0m\u001b[0;34m.\u001b[0m\u001b[0mapply_along_axis\u001b[0m\u001b[0;34m(\u001b[0m\u001b[0msplit_sentence\u001b[0m\u001b[0;34m,\u001b[0m \u001b[0;36m0\u001b[0m\u001b[0;34m,\u001b[0m \u001b[0mB\u001b[0m\u001b[0;34m)\u001b[0m\u001b[0;34m\u001b[0m\u001b[0m\n\u001b[0m",
      "\u001b[0;32m/Library/Frameworks/Python.framework/Versions/3.6/lib/python3.6/site-packages/numpy/lib/shape_base.py\u001b[0m in \u001b[0;36mapply_along_axis\u001b[0;34m(func1d, axis, arr, *args, **kwargs)\u001b[0m\n\u001b[1;32m    114\u001b[0m     \u001b[0;32mexcept\u001b[0m \u001b[0mStopIteration\u001b[0m\u001b[0;34m:\u001b[0m\u001b[0;34m\u001b[0m\u001b[0m\n\u001b[1;32m    115\u001b[0m         \u001b[0;32mraise\u001b[0m \u001b[0mValueError\u001b[0m\u001b[0;34m(\u001b[0m\u001b[0;34m'Cannot apply_along_axis when any iteration dimensions are 0'\u001b[0m\u001b[0;34m)\u001b[0m\u001b[0;34m\u001b[0m\u001b[0m\n\u001b[0;32m--> 116\u001b[0;31m     \u001b[0mres\u001b[0m \u001b[0;34m=\u001b[0m \u001b[0masanyarray\u001b[0m\u001b[0;34m(\u001b[0m\u001b[0mfunc1d\u001b[0m\u001b[0;34m(\u001b[0m\u001b[0minarr_view\u001b[0m\u001b[0;34m[\u001b[0m\u001b[0mind0\u001b[0m\u001b[0;34m]\u001b[0m\u001b[0;34m,\u001b[0m \u001b[0;34m*\u001b[0m\u001b[0margs\u001b[0m\u001b[0;34m,\u001b[0m \u001b[0;34m**\u001b[0m\u001b[0mkwargs\u001b[0m\u001b[0;34m)\u001b[0m\u001b[0;34m)\u001b[0m\u001b[0;34m\u001b[0m\u001b[0m\n\u001b[0m\u001b[1;32m    117\u001b[0m \u001b[0;34m\u001b[0m\u001b[0m\n\u001b[1;32m    118\u001b[0m     \u001b[0;31m# build a buffer for storing evaluations of func1d.\u001b[0m\u001b[0;34m\u001b[0m\u001b[0;34m\u001b[0m\u001b[0m\n",
      "\u001b[0;32m<ipython-input-100-b2feb03a926a>\u001b[0m in \u001b[0;36msplit_sentence\u001b[0;34m(sentence)\u001b[0m\n\u001b[1;32m      1\u001b[0m \u001b[0;32mdef\u001b[0m \u001b[0msplit_sentence\u001b[0m\u001b[0;34m(\u001b[0m\u001b[0msentence\u001b[0m\u001b[0;34m)\u001b[0m\u001b[0;34m:\u001b[0m\u001b[0;34m\u001b[0m\u001b[0m\n\u001b[1;32m      2\u001b[0m     \u001b[0mprint\u001b[0m\u001b[0;34m(\u001b[0m\u001b[0msentence\u001b[0m\u001b[0;34m.\u001b[0m\u001b[0mshape\u001b[0m\u001b[0;34m)\u001b[0m\u001b[0;34m\u001b[0m\u001b[0m\n\u001b[0;32m----> 3\u001b[0;31m     \u001b[0;32mreturn\u001b[0m \u001b[0msentence\u001b[0m\u001b[0;34m.\u001b[0m\u001b[0msplit\u001b[0m\u001b[0;34m(\u001b[0m\u001b[0;34m' '\u001b[0m\u001b[0;34m)\u001b[0m\u001b[0;34m\u001b[0m\u001b[0m\n\u001b[0m",
      "\u001b[0;31mAttributeError\u001b[0m: 'numpy.ndarray' object has no attribute 'split'"
     ]
    }
   ],
   "source": [
    "x =np.apply_along_axis(split_sentence, 0, B)"
   ]
  },
  {
   "cell_type": "code",
   "execution_count": 84,
   "metadata": {},
   "outputs": [
    {
     "ename": "IndexError",
     "evalue": "index 1 is out of bounds for axis 0 with size 1",
     "output_type": "error",
     "traceback": [
      "\u001b[0;31m---------------------------------------------------------------------------\u001b[0m",
      "\u001b[0;31mIndexError\u001b[0m                                Traceback (most recent call last)",
      "\u001b[0;32m<ipython-input-84-98e225784849>\u001b[0m in \u001b[0;36m<module>\u001b[0;34m()\u001b[0m\n\u001b[0;32m----> 1\u001b[0;31m \u001b[0mx\u001b[0m\u001b[0;34m[\u001b[0m\u001b[0;36m1\u001b[0m\u001b[0;34m]\u001b[0m\u001b[0;34m\u001b[0m\u001b[0m\n\u001b[0m",
      "\u001b[0;31mIndexError\u001b[0m: index 1 is out of bounds for axis 0 with size 1"
     ]
    }
   ],
   "source": [
    "x[1]"
   ]
  },
  {
   "cell_type": "code",
   "execution_count": null,
   "metadata": {
    "collapsed": true
   },
   "outputs": [],
   "source": []
  }
 ],
 "metadata": {
  "kernelspec": {
   "display_name": "Python 3",
   "language": "python",
   "name": "python3"
  },
  "language_info": {
   "codemirror_mode": {
    "name": "ipython",
    "version": 3
   },
   "file_extension": ".py",
   "mimetype": "text/x-python",
   "name": "python",
   "nbconvert_exporter": "python",
   "pygments_lexer": "ipython3",
   "version": "3.6.0"
  }
 },
 "nbformat": 4,
 "nbformat_minor": 2
}
